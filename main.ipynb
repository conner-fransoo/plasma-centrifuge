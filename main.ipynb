{
  "cells": [
    {
      "cell_type": "markdown",
      "metadata": {
        "id": "view-in-github",
        "colab_type": "text"
      },
      "source": [
        "<a href=\"https://colab.research.google.com/github/conner-fransoo/plasma-centrifuge/blob/main/main.ipynb\" target=\"_parent\"><img src=\"https://colab.research.google.com/assets/colab-badge.svg\" alt=\"Open In Colab\"/></a>"
      ]
    },
    {
      "cell_type": "markdown",
      "metadata": {
        "id": "TO-wRu3R3BbA"
      },
      "source": [
        "# Plasma centrifuge model\n",
        "\n",
        "From [_Wijnakker, M. M. B., & Amsterdam Univ. (Netherlands). (1980). Centrifugal effects in a weakly ionized rotating gas_](https://inis.iaea.org/records/ymfdn-qv182)\n",
        "\n",
        "$$\n",
        "\\sigma_\\perp \\frac{1}{r} \\frac{\\partial}{\\partial r} \\left( r \\frac{\\partial \\Phi}{\\partial r} \\right) + \\sigma \\frac{\\partial^2 \\Phi}{\\partial z^2} - \\sigma_\\perp B_0 \\frac{1}{r} \\frac{\\partial}{\\partial r}(r v_\\theta) = 0\n",
        "$$\n",
        "\n",
        "$$\n",
        "\\mu \\left(\\frac{\\partial}{\\partial r} (\\frac{1}{r} \\frac{\\partial}{\\partial r} (r v_\\theta)) + \\frac{\\partial^2 v_\\theta}{\\partial z^2}\\right) - \\sigma_\\perp B_0 \\left(-\\frac{\\partial \\Phi}{\\partial r} + v_\\theta B_0 =0 \\right)\n",
        "$$"
      ]
    },
    {
      "cell_type": "code",
      "execution_count": 1,
      "metadata": {
        "colab": {
          "base_uri": "https://localhost:8080/",
          "height": 383
        },
        "id": "jo5Ha4ngRnaE",
        "outputId": "8828669e-7bb3-4f48-cbb4-296f5a0ec91c"
      },
      "outputs": [
        {
          "output_type": "error",
          "ename": "ModuleNotFoundError",
          "evalue": "No module named 'dolfinx'",
          "traceback": [
            "\u001b[0;31m---------------------------------------------------------------------------\u001b[0m",
            "\u001b[0;31mModuleNotFoundError\u001b[0m                       Traceback (most recent call last)",
            "\u001b[0;32m<ipython-input-1-9f43db3d73de>\u001b[0m in \u001b[0;36m<cell line: 0>\u001b[0;34m()\u001b[0m\n\u001b[0;32m----> 1\u001b[0;31m \u001b[0;32mimport\u001b[0m \u001b[0mdolfinx\u001b[0m\u001b[0;34m,\u001b[0m \u001b[0mufl\u001b[0m\u001b[0;34m,\u001b[0m \u001b[0mmpi4py\u001b[0m\u001b[0;34m,\u001b[0m \u001b[0mpetsc4py\u001b[0m\u001b[0;34m,\u001b[0m \u001b[0mbasix\u001b[0m\u001b[0;34m\u001b[0m\u001b[0;34m\u001b[0m\u001b[0m\n\u001b[0m\u001b[1;32m      2\u001b[0m from dolfinx_external_operator import (FEMExternalOperator, replace_external_operators,\n\u001b[1;32m      3\u001b[0m                                        evaluate_operands,evaluate_external_operators)\n\u001b[1;32m      4\u001b[0m \u001b[0;32mfrom\u001b[0m \u001b[0mdolfinx\u001b[0m\u001b[0;34m.\u001b[0m\u001b[0mfem\u001b[0m\u001b[0;34m.\u001b[0m\u001b[0mpetsc\u001b[0m \u001b[0;32mimport\u001b[0m \u001b[0mNonlinearProblem\u001b[0m\u001b[0;34m,\u001b[0m \u001b[0massemble_vector\u001b[0m\u001b[0;34m,\u001b[0m \u001b[0mapply_lifting\u001b[0m\u001b[0;34m,\u001b[0m \u001b[0mset_bc\u001b[0m\u001b[0;34m,\u001b[0m \u001b[0massemble_matrix\u001b[0m\u001b[0;34m\u001b[0m\u001b[0;34m\u001b[0m\u001b[0m\n\u001b[1;32m      5\u001b[0m \u001b[0;32mfrom\u001b[0m \u001b[0mdolfinx\u001b[0m\u001b[0;34m.\u001b[0m\u001b[0mnls\u001b[0m\u001b[0;34m.\u001b[0m\u001b[0mpetsc\u001b[0m \u001b[0;32mimport\u001b[0m \u001b[0mNewtonSolver\u001b[0m\u001b[0;34m\u001b[0m\u001b[0;34m\u001b[0m\u001b[0m\n",
            "\u001b[0;31mModuleNotFoundError\u001b[0m: No module named 'dolfinx'",
            "",
            "\u001b[0;31m---------------------------------------------------------------------------\u001b[0;32m\nNOTE: If your import is failing due to a missing package, you can\nmanually install dependencies using either !pip or !apt.\n\nTo view examples of installing some common dependencies, click the\n\"Open Examples\" button below.\n\u001b[0;31m---------------------------------------------------------------------------\u001b[0m\n"
          ],
          "errorDetails": {
            "actions": [
              {
                "action": "open_url",
                "actionText": "Open Examples",
                "url": "/notebooks/snippets/importing_libraries.ipynb"
              }
            ]
          }
        }
      ],
      "source": [
        "import dolfinx, ufl, mpi4py, petsc4py, basix\n",
        "from dolfinx_external_operator import (FEMExternalOperator, replace_external_operators,\n",
        "                                       evaluate_operands,evaluate_external_operators)\n",
        "from dolfinx.fem.petsc import NonlinearProblem, assemble_vector, apply_lifting, set_bc, assemble_matrix\n",
        "from dolfinx.nls.petsc import NewtonSolver\n",
        "from dolfinx import fem, mesh\n",
        "from dolfinx.mesh import locate_entities_boundary, meshtags\n",
        "from dolfinx import nls, log\n",
        "from dolfinx.fem import functionspace, Function, locate_dofs_topological, dirichletbc, Constant, form\n",
        "import ufl.algorithms\n",
        "from ufl import TestFunctions, TrialFunction, grad, dot, inner, dx, ds, FacetNormal\n",
        "from basix.ufl import element\n",
        "from mpi4py import MPI\n",
        "from petsc4py import PETSc\n",
        "import scipy.constants as const\n",
        "from itertools import product\n",
        "import numpy as np\n",
        "from scipy.interpolate import RectBivariateSpline"
      ]
    },
    {
      "cell_type": "markdown",
      "metadata": {
        "id": "zoJY5H-A3BbC"
      },
      "source": [
        "Let's start by defining the variables we'll need for the problem."
      ]
    },
    {
      "cell_type": "code",
      "execution_count": null,
      "metadata": {
        "id": "wMl4IEkn3BbD"
      },
      "outputs": [],
      "source": [
        "R_0 = 0.115\n",
        "R1 = R_0 * 0.07\n",
        "c = 0.3\n",
        "c_0 = c * 0.66\n",
        "I = 100  # total current\n",
        "B0 = 0.5  # magnetic field\n",
        "voltage = 58.0  # V\n",
        "a0 = const.physical_constants[\"Bohr radius\"][0]\n",
        "ion_mass=1.67e-27"
      ]
    },
    {
      "cell_type": "code",
      "source": [
        "class PlasmaProperties:\n",
        "    # Assumes n_tot is a constant for now\n",
        "    def __init__(self, B, Ei, g, m_i, n_tot, alpha, **kwargs):\n",
        "\n",
        "        self.B = B\n",
        "        self.Ei = Ei * const.e # Convert eV to Joules\n",
        "        self.g = g\n",
        "        self.m_i = m_i\n",
        "        self.n_tot = n_tot\n",
        "        self.alpha = alpha\n",
        "\n",
        "        # Store fundamental constants\n",
        "        self.e = const.e\n",
        "        self.k = const.k\n",
        "        self.m_e = const.m_e\n",
        "        self.h = const.h\n",
        "        self.epsilon_0 = const.epsilon_0\n",
        "\n",
        "        # Minimum ionization fraction constant\n",
        "        self.min_frac = 0.0\n",
        "\n",
        "        # Initialize interpolator attribute\n",
        "        self.iz_interp = None\n",
        "\n",
        "        iz_file_path = kwargs.get('iz_lookup_table')\n",
        "        if iz_file_path:\n",
        "            try:\n",
        "                data = np.loadtxt(iz_file_path, comments='#', delimiter=',')\n",
        "                densities, temps, vals = data[1:, 0], data[0, 1:], data[1:, 1:]\n",
        "                self.iz_interp = RectBivariateSpline(densities, temps, vals)\n",
        "            except Exception as e:\n",
        "                print(f\"Warning: Failed to load ionization table: {e}\")\n",
        "\n",
        "    def f(self, T_e):\n",
        "        # Ionization fraction. If an ionization lookup table is provided, use\n",
        "        # that. Otherwise, fall back to the Saha ionization equation.\n",
        "        if self.iz_interp is not None:\n",
        "            x = self.iz_interp(self.n_tot, T_e, grid=False)\n",
        "        else:\n",
        "            lambda_th_3 = (self.h / np.sqrt(2 * np.pi * self.m_e * self.k * T_e))**3\n",
        "            A = 2 / (lambda_th_3 * self.n_tot) * self.g * np.exp(-self.Ei / (const.k * T_e))\n",
        "            x = 0.5 * (np.sqrt(A**2 + 4 * A) - A)\n",
        "        #print(\"ionization frac: \" + str(self.min_frac + (1 - self.min_frac) * x))\n",
        "        return self.min_frac + (1 - self.min_frac) * x\n",
        "\n",
        "    def ni(self, T_e):\n",
        "        # Number density of ions\n",
        "        return self.f(T_e) * self.n_tot\n",
        "\n",
        "    def ne(self, T_e):\n",
        "        # Number density of electrons (quasineutrality)\n",
        "        return self.ni(T_e)\n",
        "\n",
        "    def omega_i(self):\n",
        "        # Ion gyrofrequency\n",
        "        return (self.e * self.B) / self.m_i\n",
        "\n",
        "    def omega_e(self):\n",
        "        # Electron gyrofrequency\n",
        "        return (self.e * self.B) / self.m_e\n",
        "\n",
        "    def lambda_D(self, T_e):\n",
        "        # Debye length\n",
        "        n_e = self.ne(T_e)\n",
        "        debye_length = np.sqrt((self.epsilon_0 * self.k * T_e) / (n_e * self.e**2))\n",
        "        return debye_length\n",
        "\n",
        "    def coulomb_parameter(self, T_e):\n",
        "        # Coulomb parameter\n",
        "        n_e = self.ne(T_e)\n",
        "        lambda_D = self.lambda_D(T_e)\n",
        "        return 12 * np.pi * n_e * lambda_D**3\n",
        "\n",
        "    def sigma_spitzer(self, T_e):\n",
        "        # Spitzer conductivity\n",
        "        ln_Lambda = np.log(self.coulomb_parameter(T_e))\n",
        "        numerator = 4 * np.sqrt(2) / 3 * self.e**2 * np.sqrt(self.m_e) * ln_Lambda\n",
        "        denominator = (4 * np.pi * self.epsilon_0)**2 * (self.k * T_e)**(1.5)\n",
        "        return 1 / (numerator / denominator)\n",
        "\n",
        "    def nu_ei(self, T_e):\n",
        "        # Electron-ion collision frequency\n",
        "        n_e = self.ne(T_e)\n",
        "        conductivity = self.sigma_spitzer(T_e)\n",
        "        return n_e * self.e**2 / (self.m_e * conductivity)\n",
        "\n",
        "    def nu_en(self, T_e):\n",
        "        \"\"\"Electron-neutral collision frequency\"\"\"\n",
        "        v_th_e = np.sqrt(3 * self.k * T_e / self.m_e)\n",
        "\n",
        "        # Approximation of electron-neutral cross section\n",
        "        Q_en = 5e-19  # m^2\n",
        "        nn = (1 - self.f(T_e)) * self.n_tot\n",
        "        return nn * v_th_e * Q_en\n",
        "\n",
        "    def nu_in(self, T_h):\n",
        "        # Ion-neutral collision frequency\n",
        "        nn = (1 - self.f(T_h)) * self.n_tot\n",
        "        v_th = np.sqrt(3 * self.k * T_h / self.m_i)\n",
        "        return nn * v_th * self.Qin_Langevin(T_h)\n",
        "\n",
        "    def beta_e(self, T_e):\n",
        "        # Electron Hall parameter\n",
        "        #print(\"omega_e: \" + str(self.omega_e()))\n",
        "        #print(\"nu_ei: \" + str(self.nu_ei(T_e)))\n",
        "        return self.omega_e() / self.nu_ei(T_e)\n",
        "\n",
        "    def beta_i(self, T_h):\n",
        "        # Ion Hall parameter\n",
        "        return self.omega_i() / self.nu_in(T_h)\n",
        "\n",
        "    def s(self, T_e, T_h):\n",
        "        # Ion slip factor\n",
        "        n_i = self.ne(T_e)\n",
        "        return ((1 - self.f(T_e))**2) * self.beta_e(T_e) * self.beta_i(T_h)\n",
        "\n",
        "    def beta_eff(self, T_e, T_h):\n",
        "        # Effective Hall parameter\n",
        "        s = self.s(T_e, T_h)\n",
        "        #print(\"S: \" + str(s))\n",
        "        beta_e = self.beta_e(T_e)\n",
        "        #print(\"beta_e: \" + str(beta_e))\n",
        "        numerator = s * (1 + s) + beta_e**2\n",
        "        #print(\"numerator: \" + str(numerator))\n",
        "        denominator = 1 + s\n",
        "        #print(\"denominator: \" + str(denominator))\n",
        "        return np.sqrt(numerator / denominator)\n",
        "\n",
        "    def sigma_perp(self, T_e, T_h):\n",
        "        # Perpendicular (Pedersen) conductivity\n",
        "        return self.sigma_spitzer(T_e) / (1 + self.beta_eff(T_e, T_h)**2)\n",
        "\n",
        "    def eta_perp(self, T_e, T_h):\n",
        "        # Perpendicular (Pedersen) resistivity (defined for external operator usage)\n",
        "        return 1 / self.sigma_perp(T_e, T_h)\n",
        "\n",
        "    def sigma_H(self, T_e, T_h):\n",
        "        # Hall conductivity\n",
        "        beta_e = self.beta_e(T_e)\n",
        "        return beta_e * self.sigma_spitzer(T_e) / ((1 + self.s(T_e, T_h))**2 + beta_e**2)\n",
        "\n",
        "    def Qin_Langevin(self, T_h):\n",
        "        # Ion-neutral cross section approximation using Langevin polarization scattering.\n",
        "        # Depends on species polarizability, alpha. Useful when data is not readily available.\n",
        "        v_th = np.sqrt(3 * self.k * T_h / self.m_i)  # Thermal velocity\n",
        "        factor = np.sqrt(np.pi * self.alpha * self.e**2 / (self.epsilon_0 * self.m_i))\n",
        "        return factor / v_th\n",
        "\n",
        "    def mu_h(self, T_h):\n",
        "        # Viscosity fit for hydrogen\n",
        "        return -8.22278*10**(-6) + 5.03195*10**(-7) * T_h**0.58505\n",
        "\n",
        "    def mu_h_prime(self, T_h):\n",
        "        # Viscosity fit for hydrogen\n",
        "        return 2.94394*10**(-7) / (T_h**0.41495)\n",
        "\n",
        "    def kappa_h(self, T_h):\n",
        "        # Thermal conductivity fit for hydrogen\n",
        "        return -0.475048 + 0.0191871 * T_h**0.569845\n",
        "\n",
        "    def kappa_e(self, T_e):\n",
        "        \"\"\"Braginskii equation for electron thermal conductivity perpendicular to B-field\"\"\"\n",
        "        x = self.omega_e() / self.nu_ei(T_e)\n",
        "\n",
        "        # Coefficients\n",
        "        gamma0p, gamma1p = 11.92, 4.664\n",
        "        delta0, delta1 = 3.7703, 14.79\n",
        "\n",
        "        term1 = self.ne(T_e) * self.k**2 * T_e / (self.m_e * self.nu_ei(T_e))\n",
        "        term2 = (gamma1p * x**2 + gamma0p) / (x**4 + delta1 * x**2 + delta0)\n",
        "        return term1 * term2\n",
        "\n",
        "    def conductivity_ratio(self, T_e, T_h):\n",
        "        return self.sigma_spitzer(T_e) / self.sigma_perp(T_e, T_h)\n",
        "\n",
        "\n",
        "# Plasma property object\n",
        "plasma = PlasmaProperties(B=B0, Ei=13.6, g=0.5, m_i=ion_mass, n_tot=1e21, alpha=4.5*a0**3)\n",
        "\n",
        "te = 11000\n",
        "th = 5000\n",
        "\n",
        "kappa = plasma.kappa_e(te)\n",
        "print(\"Electron Thermal Conductivity: \" + str(kappa))\n",
        "\n",
        "sigma = plasma.sigma_spitzer(te)\n",
        "print(\"Parallel Conductivity: \" + str(sigma))\n",
        "\n",
        "sigma_perp = plasma.sigma_perp(te, th)\n",
        "print(\"Perpendicular Conductivity: \" + str(sigma_perp))\n",
        "\n",
        "viscosity = plasma.mu_h(th)\n",
        "print(\"Viscosity: \" + str(viscosity))\n",
        "\n",
        "nu_ei = plasma.nu_ei(te)\n",
        "print(\"Electron-ion collision frequency: \" + str(nu_ei))\n",
        "\n",
        "nu_en = plasma.nu_en(te)\n",
        "print(\"Electron-neutral collision frequency: \" + str(nu_en))\n",
        "\n",
        "nu_in = plasma.nu_in(th)\n",
        "print(\"Ion-neutral collision frequency: \" + str(nu_in))\n",
        "\n",
        "ne = plasma.ne(te)\n",
        "print(\"Number density of electrons: \" + str(ne))\n",
        "\n",
        "s = plasma.s(te, th)\n",
        "print(\"Ion slip factor: \" + str(s))"
      ],
      "metadata": {
        "id": "p556P259_Ufg"
      },
      "execution_count": null,
      "outputs": []
    },
    {
      "cell_type": "markdown",
      "metadata": {
        "id": "2I695Po83BbE"
      },
      "source": [
        "We now create a mesh, a functionspace and a `Function` (containing two subfunctions) for potential $\\Phi$ and azimuthal velocity $v_\\theta$. We also create test functions for the variational problem."
      ]
    },
    {
      "cell_type": "code",
      "execution_count": null,
      "metadata": {
        "id": "_S0-DekD3BbE"
      },
      "outputs": [],
      "source": [
        "mesh = dolfinx.mesh.create_rectangle(\n",
        "    MPI.COMM_WORLD, [np.array([0.0, 0.0]), np.array([c, R_0])], [150, 200]\n",
        ")\n",
        "\n",
        "V = functionspace(mesh, element(\"Lagrange\", mesh.topology.cell_name(), 1, shape=(2,)))\n",
        "\n",
        "u = Function(V)\n",
        "phi, v_theta = ufl.split(u)\n",
        "phi_v, v_theta_test = TestFunctions(V)"
      ]
    },
    {
      "cell_type": "markdown",
      "metadata": {
        "id": "8wnTKqWB3BbE"
      },
      "source": [
        "We need to create some facet meshtags to be able to apply the boundary conditions later."
      ]
    },
    {
      "cell_type": "code",
      "execution_count": null,
      "metadata": {
        "id": "8A6M8r2R3BbE"
      },
      "outputs": [],
      "source": [
        "tdim = mesh.topology.dim\n",
        "facets_top = locate_entities_boundary(mesh, tdim - 1, lambda x: np.isclose(x[1], R_0))\n",
        "facets_left = locate_entities_boundary(mesh, tdim - 1, lambda x: np.isclose(x[0], 0))\n",
        "facets_bot = locate_entities_boundary(mesh, tdim - 1, lambda x: np.isclose(x[1], 0))\n",
        "facets_near_cathode = locate_entities_boundary(\n",
        "    mesh,\n",
        "    tdim - 1,\n",
        "    lambda x: np.logical_and(np.isclose(x[1], R1, rtol=0.2), np.isclose(x[0], 0)),\n",
        ")\n",
        "facets_near_anode = locate_entities_boundary(\n",
        "    mesh,\n",
        "    tdim - 1,\n",
        "    lambda x: np.logical_and(np.isclose(x[1], R_0, rtol=0.2), np.isclose(x[0], c_0)),\n",
        ")\n",
        "\n",
        "dofs_near_cathode = locate_dofs_topological(V.sub(0), tdim - 1, facets_near_cathode)\n",
        "dofs_near_anode = locate_dofs_topological(V.sub(0), tdim - 1, facets_near_anode)\n",
        "dofs_left = locate_dofs_topological(V.sub(1), tdim - 1, facets_left)\n",
        "dofs_top = locate_dofs_topological(V.sub(1), tdim - 1, facets_top)\n",
        "dofs_bot = locate_dofs_topological(V.sub(1), tdim - 1, facets_bot)\n",
        "\n",
        "# create facet markers\n",
        "facet_indices, facet_markers = [], []\n",
        "for marker, facets in zip([1, 2], [facets_top, facets_left]):\n",
        "    for facet in facets:\n",
        "        facet_indices.append(facet)\n",
        "        facet_markers.append(marker)\n",
        "\n",
        "facet_indices = np.hstack(facet_indices).astype(np.int32)\n",
        "facet_markers = np.hstack(facet_markers).astype(np.int32)\n",
        "sorted_facets = np.argsort(facet_indices)\n",
        "fdim = mesh.topology.dim - 1\n",
        "\n",
        "facet_tag = meshtags(\n",
        "    mesh, fdim, facet_indices[sorted_facets], facet_markers[sorted_facets]\n",
        ")"
      ]
    },
    {
      "cell_type": "markdown",
      "metadata": {
        "id": "ZQwWty-i3BbE"
      },
      "source": [
        "The current flux (Neumann) boundary conditions are imposed using a delta function:"
      ]
    },
    {
      "cell_type": "code",
      "execution_count": null,
      "metadata": {
        "id": "3r96fIlU3BbE"
      },
      "outputs": [],
      "source": [
        "def delta_function(x, a, mod=np):\n",
        "    return mod.exp(-((x / a) ** 2)) / (a * mod.sqrt(mod.pi))\n",
        "\n",
        "\n",
        "a_param = 1 / 400\n",
        "\n",
        "\n",
        "def flux_left(r, mod=np):\n",
        "    return -I * delta_function(r - R1, a=a_param, mod=mod) / (2 * mod.pi * R_0)\n",
        "\n",
        "\n",
        "def flux_top(z, mod=np):\n",
        "    return +I * delta_function(z - c_0, a=a_param, mod=mod) / (2 * mod.pi * R_0)"
      ]
    },
    {
      "cell_type": "markdown",
      "metadata": {
        "id": "Nf6UvZKH3BbE"
      },
      "source": [
        "This is what the flux distributions look like.\n",
        "\n",
        "> Note:\n",
        "> Depending on the refinement of the mesh, these delta functions may not look so smooth"
      ]
    },
    {
      "cell_type": "code",
      "execution_count": null,
      "metadata": {
        "id": "sUOL0-wX3BbE"
      },
      "outputs": [],
      "source": [
        "import matplotlib.pyplot as plt\n",
        "\n",
        "r_values = np.linspace(0, R1 * 10, 100)\n",
        "z_values = np.linspace(0, c, 500)\n",
        "\n",
        "plt.plot(flux_left(r_values), r_values, label=\"flux_left\")\n",
        "plt.axhline(R1, color=\"red\", linestyle=\"--\")\n",
        "plt.ylabel(\"r\")\n",
        "plt.xlabel(\"flux\")\n",
        "plt.show()\n",
        "\n",
        "plt.plot(z_values, flux_top(z_values), label=\"flux_top\")\n",
        "plt.axvline(c_0, color=\"red\", linestyle=\"--\")\n",
        "plt.ylabel(\"flux\")\n",
        "plt.xlabel(\"z\")\n",
        "plt.show()"
      ]
    },
    {
      "cell_type": "markdown",
      "metadata": {
        "id": "1wZkxH8F3BbF"
      },
      "source": [
        "Now we can write the variational formulation"
      ]
    },
    {
      "cell_type": "code",
      "execution_count": null,
      "metadata": {
        "id": "_eyt7rKe3BbF"
      },
      "outputs": [],
      "source": [
        "# variational formulation\n",
        "ds = ufl.Measure(\"ds\", domain=mesh, subdomain_data=facet_tag)\n",
        "dx = ufl.Measure(\"dx\", domain=mesh)\n",
        "\n",
        "F = 0\n",
        "x = ufl.SpatialCoordinate(mesh)\n",
        "z, r = x[0], x[1]\n",
        "\n",
        "r_safe = r+1e-8 # can add a small parameter to reduce risk of 1/0 errors in 1/r terms\n",
        "\n",
        "B = -193.33 * (0.25*(0.3-z)**4 - 0.5*(0.184**2)*((0.3-z)**2)) + 0.4985   # curve fit for calculated magnetic field values in CHARYBDIS, assumes z=0.0m is the cathode and z=0.3m is the midplane\n",
        "\n",
        "# potential\n",
        "sigma_tensor = ufl.as_tensor([[sigma, 0], [0, sigma_perp]])\n",
        "\n",
        "F += -1 * inner(sigma_tensor * grad(phi), grad(phi_v)) * r_safe * dx\n",
        "F += -1 * sigma_perp * B * (r_safe * v_theta).dx(1) * phi_v * dx\n",
        "\n",
        "# add fluxes\n",
        "F += flux_left(r=r, mod=ufl) * phi_v * r_safe * ds(2)\n",
        "F += flux_top(z=z, mod=ufl) * phi_v * r_safe * ds(1)\n",
        "\n",
        "\n",
        "# velocity\n",
        "F += viscosity * (dot(grad(v_theta), grad(v_theta_test * r_safe)) + v_theta * (v_theta_test / r_safe + v_theta_test.dx(1))) * dx\n",
        "F += -1 * sigma_perp * B * (phi.dx(1) - v_theta * B) * v_theta_test * r_safe * dx\n",
        "\n"
      ]
    },
    {
      "cell_type": "markdown",
      "metadata": {
        "id": "5qHa630A3BbF"
      },
      "source": [
        "We create 3 non-slip boundary conditions applied to the left, top, and bottom boundaries.\n",
        "\n",
        "We also constrain the cathode to be at the right voltage."
      ]
    },
    {
      "cell_type": "code",
      "execution_count": null,
      "metadata": {
        "id": "9-uIQI5u3BbF"
      },
      "outputs": [],
      "source": [
        "# we constrain the annode to around -50 because the problem is ill-posed\n",
        "assert len(dofs_near_cathode) > 0, \"No dofs found near cathode\"\n",
        "constrain_cathode = dirichletbc(\n",
        "    dolfinx.fem.Constant(mesh, -voltage), dofs_near_cathode, V.sub(0)\n",
        ")\n",
        "non_slip_left = dirichletbc(dolfinx.fem.Constant(mesh, 0.0), dofs_left, V.sub(1))\n",
        "non_slip_top = dirichletbc(dolfinx.fem.Constant(mesh, 0.0), dofs_top, V.sub(1))\n",
        "non_slip_bot = dirichletbc(dolfinx.fem.Constant(mesh, 0.0), dofs_bot, V.sub(1))\n",
        "\n",
        "bcs = [\n",
        "    constrain_cathode,\n",
        "    non_slip_left,\n",
        "    non_slip_top,\n",
        "    non_slip_bot\n",
        "]"
      ]
    },
    {
      "cell_type": "markdown",
      "metadata": {
        "id": "TFP4k5Ko3BbF"
      },
      "source": [
        "We can now create a nonlinear problem and solve it"
      ]
    },
    {
      "cell_type": "code",
      "execution_count": null,
      "metadata": {
        "id": "4c7R_1Mj3BbF"
      },
      "outputs": [],
      "source": [
        "\n",
        "J = ufl.derivative(F, u)\n",
        "\n",
        "problem = NonlinearProblem(F, u, bcs=bcs, J=J)\n",
        "\n",
        "solver = NewtonSolver(MPI.COMM_WORLD, problem)\n",
        "\n",
        "\n",
        "solver.convergence_criterion = \"residual\"\n",
        "solver.max_it = 900\n",
        "solver.rtol = 1e-8\n",
        "solver.atol = 1e-8\n",
        "\n",
        "solver.line_search = \"basic\"\n",
        "\n",
        "n, converged = solver.solve(u)\n",
        "assert(converged)\n",
        "print(f\"Number of interations: {n}\")"
      ]
    },
    {
      "cell_type": "markdown",
      "metadata": {
        "id": "vmeBjrEk3BbF"
      },
      "source": [
        "To use the potential and velocity fields in the post-processing, we split the `u` function:"
      ]
    },
    {
      "cell_type": "code",
      "execution_count": null,
      "metadata": {
        "id": "69n9GW5e3BbF"
      },
      "outputs": [],
      "source": [
        "potential, velocity = u.split()\n",
        "\n",
        "# collapse needed\n",
        "potential = potential.collapse()\n",
        "velocity = velocity.collapse()"
      ]
    },
    {
      "cell_type": "markdown",
      "source": [
        "# Energy Equation\n",
        "\n",
        "We have two separate energy equations, one for the heavy particles and one for the electrons.\n",
        "\n",
        "Heavy Particles:\n",
        "$$\\mu\\left(r\\frac{\\partial}{\\partial{r}}\\left(\\frac{v_{\\theta}}{r}\\right)\\right)^2+\\mu\\left(\\frac{\\partial{v_{\\theta}}}{\\partial{z}}\\right)^2+\\frac{15k_B}{4m}\\mu\\nabla^2{T_h}=3n_e\\frac{m_e}{m}(f_{en}+f_{ei})k_B(T_e-T_h)+\\left(\\frac{s}{1+s}\\right)^2\\Omega_R$$\n",
        "\n",
        "which becomes:\n",
        "$$\\int_{-Z}^{Z}\\int_0^{R(z)}\\mu\\left(r\\frac{\\partial}{\\partial{r}}\\left(\\frac{v_\\theta}{r}\\right)\\right)^2\\tilde{T_h}rdrdz+\\int_{-Z}^{Z}\\int_0^{R(z)}\\mu\\left(\\frac{\\partial{v_{\\theta}}}{\\partial{z}}\\right)^2\\tilde{T_h}rdrdz-\\int_{-Z}^{Z}\\int_0^{R(z)}\\nabla{T_h}\\cdot\\nabla\\left(\\frac{15k_B\\mu}{4m}\\tilde{T_h}r\\right)drdz\\\\-\\int_{-Z}^{Z}\\int_0^{R(z)}\\left(3n_e\\frac{m_e}{m}(f_{en}+f_{ei})k_B(T_e-T_h)+\\left(\\frac{s}{1+s}\\right)^2\\left(\\sigma_\\perp\\left(-\\frac{\\partial{\\Phi}}{\\partial{r}}+v_{\\theta}B_z\\right)^2+\\sigma_{||}\\frac{\\partial{\\Phi}}{\\partial{z}}^2\\right)\\right)\\tilde{T_h}rdrdz=0$$\n",
        "\n",
        "\n",
        "Electrons (we ignore viscous heating since it is much smaller than the heavy particle viscous heating):\n",
        "$$\\lambda_e\\nabla^2{T_e}=-3n_e\\frac{m_e}{m}(f_{en}+f_{ei})k_B(T_e-T_h)+\\left(\\frac{1}{1+s}\\right)^2\\Omega_R$$\n",
        "\n",
        "which becomes\n",
        "$$-\\int_{-Z}^{Z}\\int_0^{R(z)}\\nabla{T_e}\\cdot\\nabla\\left({\\lambda_e}\\tilde{T_e}r\\right)drdz-\\int_{-Z}^{Z}\\int_0^{R(z)}\\left(-3n_e\\frac{m_e}{m}(f_{en}+f_{ei})k_B(T_e-T_h)\\right.\\\\\\left.+\\left(\\frac{1}{1+s}\\right)^2\\left(\\sigma_\\perp\\left(-\\frac{\\partial{\\Phi}}{\\partial{r}}+v_{\\theta}B_z\\right)^2+\\sigma_{||}\\frac{\\partial{\\Phi}}{\\partial{z}}^2\\right)\\right)\\tilde{T_e}rdrdz=0$$"
      ],
      "metadata": {
        "id": "I89E0kV5LZHX"
      }
    },
    {
      "cell_type": "code",
      "source": [
        "V2 = functionspace(mesh, element(\"Lagrange\", mesh.topology.cell_name(), 1, shape=(2,)))\n",
        "\n",
        "u2 = Function(V2)\n",
        "T_h, T_e = ufl.split(u2)\n",
        "T_h_test, T_e_test = TestFunctions(V2)"
      ],
      "metadata": {
        "id": "LCakRQXpLcNR"
      },
      "execution_count": null,
      "outputs": []
    },
    {
      "cell_type": "code",
      "source": [
        "#energy equation\n",
        "w = velocity / r_safe\n",
        "C = 15 * const.k / (4 * const.m_e)\n",
        "\n",
        "F2 = 0\n",
        "\n",
        "def ohmic_heating_h_perp():\n",
        "    # Ohmic heating contribution to ions/heavy particles, MINUS the j^2 term\n",
        "    return (s / (1 + s))**2 * sigma_perp / viscosity\n",
        "\n",
        "ohmic_heating_h_perp_sym = (s / (1 + s))**2 * sigma_perp\n",
        "\n",
        "def ohmic_heating_h_parallel():\n",
        "    # Ohmic heating contribution to ions/heavy particles, MINUS the j^2 term\n",
        "    return (s / (1 + s))**2 * sigma / viscosity\n",
        "\n",
        "ohmic_heating_h_parallel_sym = (s / (1 + s))**2 * sigma\n",
        "\n",
        "def ohmic_heating_e_perp():\n",
        "    # Ohmic heating contribution to electrons, MINUS the j^2 term\n",
        "    return (1 / (1 + s))**2 * sigma_perp / viscosity\n",
        "\n",
        "ohmic_heating_e_perp_sym = (1 / (1 + s))**2 * sigma_perp\n",
        "\n",
        "def ohmic_heating_e_parallel():\n",
        "    # Ohmic heating contribution to electrons, MINUS the j^2 term\n",
        "    return (1 / (1 + s))**2 * sigma / viscosity\n",
        "\n",
        "ohmic_heating_e_parallel_sym = (1 / (1 + s))**2 * sigma\n",
        "\n",
        "\n",
        "# heavy particle energy\n",
        "F2 += viscosity * (r_safe * grad(velocity / r_safe)[1])**2 * T_h_test * r_safe * dx\n",
        "F2 += viscosity * velocity.dx(0)**2 * T_h_test * r_safe * dx\n",
        "F2 -= dot(grad(T_h), 15 * viscosity * const.k * grad(r_safe * T_h_test) / (4 * const.m_e)) * dx\n",
        "#F2 -= 3 * ne * const.k * const.m_e / ion_mass * (nu_ei + nu_en) * (T_e - T_h) * r_safe * T_h_test * dx\n",
        "F2 += -1 * (ohmic_heating_h_perp_sym*(-1 * potential.dx(1) + velocity * B)**2 + ohmic_heating_h_parallel_sym*(potential.dx(0))**2) * r_safe * T_h_test * dx\n",
        "\n",
        "# electron energy\n",
        "F2 -= kappa * dot(grad(T_e), grad(r_safe * T_e_test)) * dx\n",
        "#F2 += 3 * ne * const.k * const.m_e / ion_mass * (nu_ei + nu_en) * (T_e - T_h) * r_safe * T_e_test * dx\n",
        "F2 += -1 * (ohmic_heating_e_perp_sym*(-1 * potential.dx(1) + velocity * B)**2 + ohmic_heating_e_parallel_sym*viscosity*(potential.dx(0))**2) * r_safe * T_e_test * dx\n",
        "\n",
        "\n",
        "dofs_near_bot_t_h = locate_dofs_topological(V2.sub(0), tdim - 1, facets_bot)\n",
        "dofs_near_top_t_h = locate_dofs_topological(V2.sub(0), tdim - 1, facets_top)\n",
        "dofs_near_bot_t_e = locate_dofs_topological(V2.sub(1), tdim - 1, facets_bot)\n",
        "dofs_near_top_t_e = locate_dofs_topological(V2.sub(1), tdim - 1, facets_top)\n",
        "\n",
        "\n",
        "\n",
        "bc_T_h_in = dirichletbc(fem.Constant(mesh, 9000.), dofs_near_bot_t_h,  V2.sub(0))\n",
        "bc_T_h_out = dirichletbc(fem.Constant(mesh, 1000.), dofs_near_top_t_h, V2.sub(0))\n",
        "\n",
        "bc_T_e_in = dirichletbc(fem.Constant(mesh, 10000.), dofs_near_bot_t_e,  V2.sub(1))\n",
        "bc_T_e_out = dirichletbc(fem.Constant(mesh, 9500.), dofs_near_top_t_e, V2.sub(1))\n",
        "\n",
        "bcs2 = [\n",
        "    bc_T_h_in,\n",
        "    bc_T_h_out,\n",
        "    bc_T_e_in,\n",
        "    bc_T_e_out\n",
        "]\n",
        "\n",
        "J2 = ufl.derivative(F2, u2)\n",
        "\n",
        "problem2 = NonlinearProblem(F2, u2, bcs=bcs2, J=J2)\n",
        "\n",
        "solver2 = NewtonSolver(MPI.COMM_WORLD, problem2)\n",
        "\n",
        "\n",
        "solver2.convergence_criterion = \"residual\"\n",
        "solver2.max_it = 900\n",
        "solver2.rtol = 1e-8\n",
        "solver2.atol = 1e-8\n",
        "\n",
        "solver2.line_search = \"basic\"\n",
        "\n",
        "n2, converged2 = solver2.solve(u2)\n",
        "assert(converged2)\n",
        "print(f\"Number of interations: {n2}\")\n",
        "\n",
        "temperature_h, temperature_e = u2.split()\n",
        "\n",
        "# collapse needed\n",
        "temperature_h = temperature_h.collapse()\n",
        "temperature_e = temperature_e.collapse()"
      ],
      "metadata": {
        "id": "-i6NYHvhM_Ay"
      },
      "execution_count": null,
      "outputs": []
    },
    {
      "cell_type": "markdown",
      "metadata": {
        "id": "YvHBdvB13BbF"
      },
      "source": [
        "## Pressure profile\n",
        "\n",
        "The pressure $P$ on a radial profile can be computed by solving:\n",
        "\n",
        "$$\n",
        "\\frac{dP}{dr} = p \\frac{m}{kT} \\frac{v_\\theta^2}{r} - \\sigma_H B_0 \\left( - \\frac{\\partial \\Phi}{\\partial r} + v_\\theta B_0 \\right)\n",
        "$$"
      ]
    },
    {
      "cell_type": "markdown",
      "metadata": {
        "id": "2-NIEU6S3BbF"
      },
      "source": [
        "First, we create a 1D submesh on a radial profile."
      ]
    },
    {
      "cell_type": "code",
      "execution_count": null,
      "metadata": {
        "id": "MTxSsx9F3BbF"
      },
      "outputs": [],
      "source": [
        "#pressure_profile_loc = c\n",
        "#entities = dolfinx.mesh.locate_entities(\n",
        " #   mesh, mesh.topology.dim - 1, lambda x: np.isclose(x[0], pressure_profile_loc)\n",
        "#)\n",
        "\n",
        "#mesh_1d, entity_map, vmap, _ = dolfinx.mesh.create_submesh(\n",
        "#    mesh, dim=1, entities=entities\n",
        "#)"
      ]
    },
    {
      "cell_type": "markdown",
      "metadata": {
        "id": "-w0EPh8W3BbF"
      },
      "source": [
        "Create a new functionspace, function for pressure, and test function"
      ]
    },
    {
      "cell_type": "code",
      "execution_count": null,
      "metadata": {
        "id": "yQip7HtE3BbF"
      },
      "outputs": [],
      "source": [
        "V_p = functionspace(mesh, element(\"Lagrange\", mesh.topology.cell_name(), 1))\n",
        "p = Function(V_p)\n",
        "p_test = ufl.TestFunction(V_p)\n"
      ]
    },
    {
      "cell_type": "markdown",
      "metadata": {
        "id": "CpDOsAnu3BbF"
      },
      "source": [
        "Because codim 1 problems are not yet supported, we need to interpolate the 2D velocity and potential onto suitable 1D functions:"
      ]
    },
    {
      "cell_type": "code",
      "execution_count": null,
      "metadata": {
        "id": "WaSHeKlm3BbG"
      },
      "outputs": [],
      "source": [
        "def nmm_interpolate(f_out: dolfinx.fem.Function, f_in: dolfinx.fem.Function):\n",
        "    \"\"\"Non Matching Mesh Interpolate: interpolate one function (f_in) from one mesh into\n",
        "    another function (f_out) with a mismatching mesh\n",
        "\n",
        "    args:\n",
        "        f_out: function to interpolate into\n",
        "        f_in: function to interpolate from\n",
        "\n",
        "    notes:\n",
        "    https://fenicsproject.discourse.group/t/gjk-error-in-interpolation-between-non-matching-second-ordered-3d-meshes/16086/6\n",
        "    \"\"\"\n",
        "\n",
        "    dim = f_out.function_space.mesh.topology.dim\n",
        "    index_map = f_out.function_space.mesh.topology.index_map(dim)\n",
        "    ncells = index_map.size_local + index_map.num_ghosts\n",
        "    cells = np.arange(ncells, dtype=np.int32)\n",
        "    interpolation_data = dolfinx.fem.create_interpolation_data(\n",
        "        f_out.function_space, f_in.function_space, cells, padding=1e-11\n",
        "    )\n",
        "    f_out.interpolate_nonmatching(f_in, cells, interpolation_data=interpolation_data)\n",
        "\n",
        "\n",
        "#print(temperature)\n",
        "#velocity_1d = dolfinx.fem.Function(V_p)\n",
        "#potential_1d = dolfinx.fem.Function(V_p)\n",
        "#temperature_e_1d = dolfinx.fem.Function(V_p)\n",
        "#temperature_h_1d = dolfinx.fem.Function(V_p)\n",
        "#nmm_interpolate(velocity_1d, velocity)\n",
        "#nmm_interpolate(potential_1d, potential)\n",
        "#nmm_interpolate(temperature_e_1d, temperature_e)\n",
        "#nmm_interpolate(temperature_h_1d, temperature_h)"
      ]
    },
    {
      "cell_type": "markdown",
      "metadata": {
        "id": "-Ox7cctI3BbG"
      },
      "source": [
        "Set up the 1D variational problem, constrain the pressure to 1 Torr at $r=R_0$ and solve"
      ]
    },
    {
      "cell_type": "code",
      "execution_count": null,
      "metadata": {
        "id": "3HQbKgxC3BbG"
      },
      "outputs": [],
      "source": [
        "tdim = mesh.topology.dim\n",
        "#facets_top = locate_entities_boundary(\n",
        " #   mesh_1d, tdim - 1, lambda x: np.isclose(x[1], R_0)\n",
        "#)\n",
        "dofs_top = locate_dofs_topological(V_p, tdim - 1, facets_top)\n",
        "\n",
        "sigma_H = dolfinx.fem.Constant(mesh, plasma.sigma_H(10000, 10000))\n",
        "\n",
        "\n",
        "F_pressure = 0\n",
        "F_pressure += p.dx(1) * p_test * dx\n",
        "F_pressure += -ion_mass / (const.k * temperature_h) * velocity**2 / r * p * p_test * dx\n",
        "F_pressure += +sigma_H * B * (-potential.dx(1) + velocity * B) * p_test * dx\n",
        "\n",
        "p0 = 133.3  # Pa\n",
        "bcs_pressure = [\n",
        "    dolfinx.fem.dirichletbc(dolfinx.fem.Constant(mesh, p0), dofs_top, V_p),\n",
        "]\n",
        "\n",
        "problem = NonlinearProblem(F_pressure, p, bcs=bcs_pressure)\n",
        "solver = NewtonSolver(MPI.COMM_WORLD, problem)\n",
        "\n",
        "#log.set_log_level(log.LogLevel.INFO)\n",
        "n, converged = solver.solve(p)\n",
        "\n",
        "pressure = p"
      ]
    },
    {
      "cell_type": "markdown",
      "metadata": {
        "id": "yQlkNhgJ3BbG"
      },
      "source": [
        "## Post processing\n",
        "\n",
        "We can write the potential and the velocity fields to VTX"
      ]
    },
    {
      "cell_type": "code",
      "execution_count": null,
      "metadata": {
        "id": "LUxtQhAv3BbG"
      },
      "outputs": [],
      "source": [
        "from dolfinx.io import VTXWriter\n",
        "\n",
        "\n",
        "writer = VTXWriter(MPI.COMM_WORLD, \"potential.bp\", [potential], \"BP5\")\n",
        "writer.write(0.0)\n",
        "\n",
        "\n",
        "writer = VTXWriter(MPI.COMM_WORLD, \"velocity.bp\", [velocity], \"BP5\")\n",
        "writer.write(0.0)"
      ]
    },
    {
      "cell_type": "markdown",
      "metadata": {
        "id": "C-wiUTcP3BbG"
      },
      "source": [
        "It is also possible to calculate the current integral and verify that it matches the set current:"
      ]
    },
    {
      "cell_type": "code",
      "execution_count": null,
      "metadata": {
        "id": "26UlxLBX3BbG"
      },
      "outputs": [],
      "source": [
        "# integrate current density\n",
        "\n",
        "current_left = dolfinx.fem.assemble_scalar(\n",
        "    dolfinx.fem.form(-sigma * potential.dx(0) * 2 * ufl.pi * r * ds(2))\n",
        ")\n",
        "current_top = dolfinx.fem.assemble_scalar(\n",
        "    dolfinx.fem.form(sigma_perp * potential.dx(1) * 2 * ufl.pi * r * ds(1))\n",
        ")\n",
        "\n",
        "print(f\"Expected current: {I}\")\n",
        "print(f\"Current left: {current_left:.2f}\")\n",
        "print(f\"Current top: {current_top:.2f}\")"
      ]
    },
    {
      "cell_type": "markdown",
      "metadata": {
        "id": "RBnH9V5E3BbG"
      },
      "source": [
        "We can visualise the fields with `pyvista`"
      ]
    },
    {
      "cell_type": "code",
      "execution_count": null,
      "metadata": {
        "id": "ZK-kB3Q93BbG"
      },
      "outputs": [],
      "source": [
        "import pyvista\n",
        "from dolfinx.plot import vtk_mesh\n",
        "from matplotlib.colors import TwoSlopeNorm, ListedColormap\n",
        "\n",
        "pyvista.OFF_SCREEN = True\n",
        "\n",
        "u_topology, u_cell_types, u_geometry = vtk_mesh(V)\n",
        "\n",
        "u_grid = pyvista.UnstructuredGrid(u_topology, u_cell_types, u_geometry)\n",
        "u_grid.point_data[\"potential\"] = potential.x.array.real\n",
        "u_grid.set_active_scalars(\"potential\")\n",
        "\n",
        "# Calculate the data range\n",
        "data_min = np.min(u_grid.point_data[\"potential\"])\n",
        "data_max = np.max(u_grid.point_data[\"potential\"])\n",
        "\n",
        "# Create a TwoSlopeNorm centered at zero\n",
        "norm = TwoSlopeNorm(vmin=data_min, vcenter=0, vmax=data_max)\n",
        "mapping = np.linspace(data_min, data_max, 256)\n",
        "newcolors = plt.cm.coolwarm(norm(mapping))\n",
        "new_cmap = ListedColormap(newcolors)\n",
        "\n",
        "u_plotter = pyvista.Plotter()\n",
        "\n",
        "u_plotter.add_mesh(\n",
        "    u_grid, show_edges=False, cmap=new_cmap, scalar_bar_args={\"title\": \"Potential (V)\"}\n",
        ")\n",
        "contours = u_grid.contour(50)\n",
        "u_plotter.add_mesh(contours, cmap=new_cmap, scalar_bar_args={\"title\": \"Potential (V)\"})\n",
        "u_plotter.view_xy()\n",
        "\n",
        "screenshot_path_phi = \"plot.png\"\n",
        "u_plotter.screenshot(screenshot_path_phi)\n",
        "\n",
        "# Display in notebook\n",
        "from IPython.display import Image\n",
        "Image(screenshot_path_phi)"
      ]
    },
    {
      "cell_type": "code",
      "execution_count": null,
      "metadata": {
        "id": "SS02b4YG3BbG"
      },
      "outputs": [],
      "source": [
        "u_grid = pyvista.UnstructuredGrid(u_topology, u_cell_types, u_geometry)\n",
        "u_grid.point_data[\"azimuthal_velocity\"] = velocity.x.array.real\n",
        "u_grid.set_active_scalars(\"azimuthal_velocity\")\n",
        "u_plotter = pyvista.Plotter()\n",
        "u_plotter.add_mesh(\n",
        "    u_grid, show_edges=False, scalar_bar_args={\"title\": \"Azimuthal velocity (m/s)\"}\n",
        ")\n",
        "\n",
        "contours = u_grid.contour()\n",
        "u_plotter.add_mesh(contours, opacity=1, color=\"white\", line_width=0.5)\n",
        "u_plotter.view_xy()\n",
        "\n",
        "screenshot_path_v_theta = \"plot_v_theta.png\"\n",
        "u_plotter.screenshot(screenshot_path_v_theta)\n",
        "\n",
        "# Display in notebook\n",
        "Image(screenshot_path_v_theta)"
      ]
    },
    {
      "cell_type": "code",
      "source": [
        "u_grid = pyvista.UnstructuredGrid(u_topology, u_cell_types, u_geometry)\n",
        "u_grid.point_data[\"electron_temperature\"] = temperature_e.x.array.real\n",
        "u_grid.set_active_scalars(\"electron_temperature\")\n",
        "u_plotter = pyvista.Plotter()\n",
        "u_plotter.add_mesh(\n",
        "    u_grid, show_edges=False, scalar_bar_args={\"title\": \"Electron Temperature (K)\"}\n",
        ")\n",
        "\n",
        "contours = u_grid.contour()\n",
        "u_plotter.add_mesh(contours, opacity=1, color=\"white\", line_width=0.5)\n",
        "u_plotter.view_xy()\n",
        "\n",
        "screenshot_path_t_e = \"plot_T_e.png\"\n",
        "u_plotter.screenshot(screenshot_path_t_e)\n",
        "\n",
        "# Display in notebook\n",
        "Image(screenshot_path_t_e)"
      ],
      "metadata": {
        "id": "sstElct-9ecL"
      },
      "execution_count": null,
      "outputs": []
    },
    {
      "cell_type": "code",
      "source": [
        "u_grid = pyvista.UnstructuredGrid(u_topology, u_cell_types, u_geometry)\n",
        "u_grid.point_data[\"heavy_temperature\"] = temperature_h.x.array.real\n",
        "u_grid.set_active_scalars(\"heavy_temperature\")\n",
        "u_plotter = pyvista.Plotter()\n",
        "u_plotter.add_mesh(\n",
        "    u_grid, show_edges=False, scalar_bar_args={\"title\": \"Heavy Particle Temperature (K)\"}\n",
        ")\n",
        "\n",
        "contours = u_grid.contour()\n",
        "u_plotter.add_mesh(contours, opacity=1, color=\"white\", line_width=0.5)\n",
        "u_plotter.view_xy()\n",
        "\n",
        "screenshot_path_t_h = \"plot_T_h.png\"\n",
        "u_plotter.screenshot(screenshot_path_t_h)\n",
        "\n",
        "# Display in notebook\n",
        "Image(screenshot_path_t_h)"
      ],
      "metadata": {
        "id": "mHv3EkGB9g8B"
      },
      "execution_count": null,
      "outputs": []
    },
    {
      "cell_type": "code",
      "source": [
        "u_grid = pyvista.UnstructuredGrid(u_topology, u_cell_types, u_geometry)\n",
        "u_grid.point_data[\"pressure\"] = pressure.x.array.real\n",
        "u_grid.set_active_scalars(\"pressure\")\n",
        "u_plotter = pyvista.Plotter()\n",
        "u_plotter.add_mesh(\n",
        "    u_grid, show_edges=False, scalar_bar_args={\"title\": \"Pressure (Pa)\"}\n",
        ")\n",
        "\n",
        "contours = u_grid.contour()\n",
        "u_plotter.add_mesh(contours, opacity=1, color=\"white\", line_width=0.5)\n",
        "u_plotter.view_xy()\n",
        "\n",
        "screenshot_path_p = \"plot_p.png\"\n",
        "u_plotter.screenshot(screenshot_path_p)\n",
        "\n",
        "# Display in notebook\n",
        "Image(screenshot_path_p)"
      ],
      "metadata": {
        "id": "kCtGe40enGt3"
      },
      "execution_count": null,
      "outputs": []
    },
    {
      "cell_type": "markdown",
      "metadata": {
        "id": "wVhmDqLY3BbH"
      },
      "source": [
        "Now we can plot the velocity, potential, and pressure radial profiles:"
      ]
    },
    {
      "cell_type": "code",
      "execution_count": null,
      "metadata": {
        "id": "psL-NyVi3BbH"
      },
      "outputs": [],
      "source": [
        "import matplotlib.pyplot as plt\n",
        "\n",
        "fig, axs = plt.subplots(5, 1, figsize=(5, 15), sharex=True)\n",
        "axs[0].plot(mesh_1d.geometry.x[:, 1], velocity_1d.x.array)\n",
        "axs[0].set_title(f\"Velocity profile z={pressure_profile_loc}\")\n",
        "axs[1].plot(mesh_1d.geometry.x[:, 1], potential_1d.x.array)\n",
        "axs[1].set_title(f\"Potential profile z={pressure_profile_loc}\")\n",
        "axs[2].plot(mesh_1d.geometry.x[:, 1], temperature_e_1d.x.array)\n",
        "axs[2].set_title(f\"Electron temperature profile z={pressure_profile_loc}\")\n",
        "axs[3].plot(mesh_1d.geometry.x[:, 1], temperature_h_1d.x.array)\n",
        "axs[3].set_title(f\"Heavy particle temperature profile z={pressure_profile_loc}\")\n",
        "axs[4].set_title(f\"Pressure profile z={pressure_profile_loc}\")\n",
        "axs[4].plot(mesh_1d.geometry.x[:, 1], p.x.array)\n",
        "axs[4].set_xlabel(\"r\")\n",
        "plt.show()"
      ]
    }
  ],
  "metadata": {
    "colab": {
      "provenance": [],
      "machine_shape": "hm",
      "include_colab_link": true
    },
    "kernelspec": {
      "display_name": "Python 3",
      "name": "python3"
    },
    "language_info": {
      "codemirror_mode": {
        "name": "ipython",
        "version": 3
      },
      "file_extension": ".py",
      "mimetype": "text/x-python",
      "name": "python",
      "nbconvert_exporter": "python",
      "pygments_lexer": "ipython3",
      "version": "3.13.2"
    }
  },
  "nbformat": 4,
  "nbformat_minor": 0
}